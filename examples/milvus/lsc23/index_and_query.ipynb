{
 "cells": [
  {
   "cell_type": "code",
   "execution_count": 4,
   "metadata": {},
   "outputs": [],
   "source": [
    "import os\n",
    "from pathlib import Path\n",
    "\n",
    "import numpy as np\n",
    "import requests\n",
    "from dotenv import load_dotenv\n",
    "\n",
    "dotenv_path = Path('.env')\n",
    "load_dotenv(dotenv_path=dotenv_path)\n",
    "\n",
    "CLIP_PORT = os.environ.get(\"CLIP_PORT\", None)\n",
    "MILVUS_PORT = os.environ.get(\"MILVUS_PORT\", None)\n",
    "\n",
    "assert CLIP_PORT is not None, \"CLIP_PORT is not set\"\n",
    "assert MILVUS_PORT is not None, \"MILVUS_PORT is not set\"\n",
    "\n",
    "from pysearch.milvus import Milvus2Processor as MilvusProcessor"
   ]
  },
  {
   "cell_type": "code",
   "execution_count": 5,
   "metadata": {},
   "outputs": [],
   "source": [
    "config = {\n",
    "    # Global config\n",
    "    \"HOST\": \"0.0.0.0\",\n",
    "    \"PORT\": MILVUS_PORT,\n",
    "    \"INDEX\": \"lsc23_db\",\n",
    "    \"RETURN_SIZE\": 10,\n",
    "    \"CACHE_DIR\": \".cache/\",\n",
    "    # Milvus config\n",
    "    \"DIMENSION\": 768,\n",
    "}"
   ]
  },
  {
   "cell_type": "code",
   "execution_count": 13,
   "metadata": {},
   "outputs": [
    {
     "data": {
      "text/plain": [
       "{'name': 'lsc23_db',\n",
       " 'description': 'Pysearch collection',\n",
       " 'num_entities': 0,\n",
       " 'collections': ['test', 'test_index', 'lsc23_db']}"
      ]
     },
     "execution_count": 13,
     "metadata": {},
     "output_type": "execute_result"
    }
   ],
   "source": [
    "proc = MilvusProcessor(config, autoload_collection=False)\n",
    "proc.info()"
   ]
  },
  {
   "cell_type": "code",
   "execution_count": 15,
   "metadata": {},
   "outputs": [],
   "source": [
    "proc.kill('test')"
   ]
  },
  {
   "cell_type": "code",
   "execution_count": 16,
   "metadata": {},
   "outputs": [
    {
     "data": {
      "text/plain": [
       "{'name': 'lsc23_db',\n",
       " 'description': 'Pysearch collection',\n",
       " 'num_entities': 0,\n",
       " 'collections': ['lsc23_db']}"
      ]
     },
     "execution_count": 16,
     "metadata": {},
     "output_type": "execute_result"
    }
   ],
   "source": [
    "proc.info()"
   ]
  },
  {
   "cell_type": "code",
   "execution_count": 17,
   "metadata": {},
   "outputs": [],
   "source": [
    "import pickle \n",
    "data = pickle.load(open(\"/home/vbs/lsc23/dragon2/L14_336_features_128.pkl\", \"rb\"))"
   ]
  },
  {
   "cell_type": "code",
   "execution_count": 18,
   "metadata": {},
   "outputs": [],
   "source": [
    "features = np.array([x[1] for x in  data.items()])\n",
    "ids = np.array([x[0].split('.')[0] for x in data.items()]) # remove extension, e.g. .jpg. From 000000.jpg to 000000"
   ]
  },
  {
   "cell_type": "code",
   "execution_count": 19,
   "metadata": {},
   "outputs": [
    {
     "name": "stdout",
     "output_type": "stream",
     "text": [
      "20190205_044043_000\n",
      "(768,)\n"
     ]
    }
   ],
   "source": [
    "# example of an id and a feature vector \n",
    "print(ids[0])\n",
    "print(features[0].shape)"
   ]
  },
  {
   "cell_type": "code",
   "execution_count": 20,
   "metadata": {},
   "outputs": [],
   "source": [
    "assert features.shape[0] == len(ids), \"vectors and ids must have the same length\""
   ]
  },
  {
   "cell_type": "code",
   "execution_count": 21,
   "metadata": {},
   "outputs": [
    {
     "data": {
      "text/plain": [
       "(725226, 768)"
      ]
     },
     "execution_count": 21,
     "metadata": {},
     "output_type": "execute_result"
    }
   ],
   "source": [
    "features.shape"
   ]
  },
  {
   "cell_type": "code",
   "execution_count": 22,
   "metadata": {},
   "outputs": [
    {
     "name": "stderr",
     "output_type": "stream",
     "text": [
      "(insert count: 234, delete count: 0, upsert count: 0, timestamp: 440107208522858497, success count: 234, err count: 0): 100%|██████████| 257/257 [01:01<00:00,  4.19it/s]  \n"
     ]
    },
    {
     "name": "stdout",
     "output_type": "stream",
     "text": [
      "Function update_list_document elapsed time: 0:01:01.388936\n"
     ]
    }
   ],
   "source": [
    "proc.index_list_document(features, ids)"
   ]
  },
  {
   "cell_type": "code",
   "execution_count": 23,
   "metadata": {},
   "outputs": [
    {
     "name": "stdout",
     "output_type": "stream",
     "text": [
      "Function search elapsed time: 0:00:00.469084\n"
     ]
    },
    {
     "data": {
      "text/plain": [
       "(['20190421_105512_000', '20191009_064951_000', '20190416_090317_000'],\n",
       " [37583.9609375, 37584.5859375, 37584.8984375])"
      ]
     },
     "execution_count": 23,
     "metadata": {},
     "output_type": "execute_result"
    }
   ],
   "source": [
    "query = np.ones((1, 768)) * 7\n",
    "results = proc.search(query, top_k=3)\n",
    "results"
   ]
  },
  {
   "cell_type": "code",
   "execution_count": 24,
   "metadata": {},
   "outputs": [
    {
     "name": "stdout",
     "output_type": "stream",
     "text": [
      "Function search elapsed time: 0:00:00.225801\n"
     ]
    },
    {
     "data": {
      "text/plain": [
       "(['20190421_105512_000', '20190416_090317_000'],\n",
       " [37583.9609375, 37584.8984375])"
      ]
     },
     "execution_count": 24,
     "metadata": {},
     "output_type": "execute_result"
    }
   ],
   "source": [
    "results = proc.search(query, top_k=10, filter=[\"20190421_105512_000\", \"20190416_090317_000\"])\n",
    "results"
   ]
  }
 ],
 "metadata": {
  "kernelspec": {
   "display_name": "service",
   "language": "python",
   "name": "python3"
  },
  "language_info": {
   "codemirror_mode": {
    "name": "ipython",
    "version": 3
   },
   "file_extension": ".py",
   "mimetype": "text/x-python",
   "name": "python",
   "nbconvert_exporter": "python",
   "pygments_lexer": "ipython3",
   "version": "3.11.0"
  },
  "orig_nbformat": 4,
  "vscode": {
   "interpreter": {
    "hash": "6f7d53329a8c7a3f02b52915f9761e1a636f352b70762b0e0e639d14f259ce92"
   }
  }
 },
 "nbformat": 4,
 "nbformat_minor": 2
}
