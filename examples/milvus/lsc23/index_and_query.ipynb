{
 "cells": [
  {
   "cell_type": "code",
   "execution_count": 1,
   "metadata": {},
   "outputs": [],
   "source": [
    "import os\n",
    "from pathlib import Path\n",
    "\n",
    "import numpy as np\n",
    "import requests\n",
    "from dotenv import load_dotenv\n",
    "\n",
    "dotenv_path = Path('.env')\n",
    "load_dotenv(dotenv_path=dotenv_path)\n",
    "\n",
    "CLIP_PORT = os.environ.get(\"CLIP_PORT\", None)\n",
    "MILVUS_PORT = os.environ.get(\"MILVUS_PORT\", None)\n",
    "\n",
    "assert CLIP_PORT is not None, \"CLIP_PORT is not set\"\n",
    "assert MILVUS_PORT is not None, \"MILVUS_PORT is not set\"\n",
    "\n",
    "from pysearch.milvus import Milvus2Processor as MilvusProcessor"
   ]
  },
  {
   "cell_type": "code",
   "execution_count": 2,
   "metadata": {},
   "outputs": [],
   "source": [
    "config = {\n",
    "    # Global config\n",
    "    \"HOST\": \"0.0.0.0\",\n",
    "    \"PORT\": MILVUS_PORT,\n",
    "    \"INDEX\": \"lsc23_full_db\",\n",
    "    \"RETURN_SIZE\": 10,\n",
    "    \"CACHE_DIR\": \".cache/\",\n",
    "    # Milvus config\n",
    "    \"DIMENSION\": 768,\n",
    "}"
   ]
  },
  {
   "cell_type": "code",
   "execution_count": 3,
   "metadata": {},
   "outputs": [
    {
     "data": {
      "text/plain": [
       "{'name': 'lsc23_full_db',\n",
       " 'description': 'Pysearch collection',\n",
       " 'num_entities': 721823,\n",
       " 'collections': ['test_index',\n",
       "  'lsc23_db',\n",
       "  'lsc23_with2000_db',\n",
       "  'lsc23_full_db',\n",
       "  'test'],\n",
       " 'details': [{'metric_type': 'L2',\n",
       "   'index_type': 'IVF_FLAT',\n",
       "   'params': {'nlist': 2048}}]}"
      ]
     },
     "execution_count": 3,
     "metadata": {},
     "output_type": "execute_result"
    }
   ],
   "source": [
    "proc = MilvusProcessor(config, autoload_collection=False)\n",
    "proc.info()"
   ]
  },
  {
   "cell_type": "code",
   "execution_count": 18,
   "metadata": {},
   "outputs": [],
   "source": [
    "# proc.kill(\"lsc23_full_db\")"
   ]
  },
  {
   "cell_type": "code",
   "execution_count": null,
   "metadata": {},
   "outputs": [],
   "source": [
    "# read /home/vbs/lsc23/image_list_contracted.txt \n",
    "with open(\"/root/workspace/data/info/image_list_contracted.txt\") as f:\n",
    "    lines = f.readlines()\n",
    "    lines = [line.strip() for line in lines]\n",
    "\n",
    "using_ids = set(lines)\n",
    "\n",
    "new_lines = [] \n",
    "for line in lines:\n",
    "    if line.startswith(\"2000\"):\n",
    "        continue\n",
    "    new_lines.append(line)\n",
    "# only use a subset ids \n",
    "using_ids = set(new_lines)"
   ]
  },
  {
   "cell_type": "code",
   "execution_count": 19,
   "metadata": {},
   "outputs": [],
   "source": [
    "# read /home/vbs/lsc23/image_list_contracted.txt \n",
    "with open(\"/root/workspace/data/info/image_list_full.txt\") as f:\n",
    "    lines = f.readlines()\n",
    "    lines = [line.strip() for line in lines]\n",
    "\n",
    "using_ids = set(lines)\n",
    "\n",
    "new_lines = [] \n",
    "for line in lines:\n",
    "    if line.startswith(\"2000\"):\n",
    "        continue\n",
    "    new_lines.append(line)\n",
    "# only use a subset ids \n",
    "using_ids = set(new_lines)"
   ]
  },
  {
   "cell_type": "code",
   "execution_count": 20,
   "metadata": {},
   "outputs": [],
   "source": [
    "# proc.kill('lsc23_db')"
   ]
  },
  {
   "cell_type": "code",
   "execution_count": 21,
   "metadata": {},
   "outputs": [
    {
     "data": {
      "text/plain": [
       "725226"
      ]
     },
     "execution_count": 21,
     "metadata": {},
     "output_type": "execute_result"
    }
   ],
   "source": [
    "import pickle \n",
    "data = pickle.load(open(\"/root/workspace/data/features/L14_336_features_128.pkl\", \"rb\"))\n",
    "len(data)"
   ]
  },
  {
   "cell_type": "code",
   "execution_count": 22,
   "metadata": {},
   "outputs": [],
   "source": [
    "data = {k.split('.')[0]: v for k, v in data.items()} # remove extension, e.g. .jpg. From 000000.jpg to 000000\n",
    "data = {k: v for k, v in data.items() if k in using_ids}"
   ]
  },
  {
   "cell_type": "code",
   "execution_count": 23,
   "metadata": {},
   "outputs": [],
   "source": [
    "features = np.array([x[1] for x in  data.items()])\n",
    "ids = np.array([x[0].split('.')[0] for x in data.items()])"
   ]
  },
  {
   "cell_type": "code",
   "execution_count": 24,
   "metadata": {},
   "outputs": [
    {
     "name": "stdout",
     "output_type": "stream",
     "text": [
      "20190205_044043_000\n",
      "(768,)\n"
     ]
    }
   ],
   "source": [
    "# example of an id and a feature vector \n",
    "print(ids[0])\n",
    "print(features[0].shape)"
   ]
  },
  {
   "cell_type": "code",
   "execution_count": 25,
   "metadata": {},
   "outputs": [
    {
     "data": {
      "text/plain": [
       "(721823, 768)"
      ]
     },
     "execution_count": 25,
     "metadata": {},
     "output_type": "execute_result"
    }
   ],
   "source": [
    "assert features.shape[0] == len(ids), \"vectors and ids must have the same length\"\n",
    "features.shape"
   ]
  },
  {
   "cell_type": "code",
   "execution_count": 26,
   "metadata": {},
   "outputs": [
    {
     "name": "stderr",
     "output_type": "stream",
     "text": [
      "(insert count: 159, delete count: 0, upsert count: 0, timestamp: 442121581785513985, success count: 159, err count: 0): 100%|██████████| 257/257 [01:16<00:00,  3.38it/s]  \n"
     ]
    },
    {
     "name": "stdout",
     "output_type": "stream",
     "text": [
      "Function update_list_document elapsed time: 0:01:16.028632\n"
     ]
    }
   ],
   "source": [
    "proc.index_list_document(features, ids)"
   ]
  },
  {
   "cell_type": "code",
   "execution_count": 5,
   "metadata": {},
   "outputs": [
    {
     "name": "stdout",
     "output_type": "stream",
     "text": [
      "Function search elapsed time: 0:00:00.249433\n"
     ]
    },
    {
     "data": {
      "text/plain": [
       "(['20191009_064951_000', '20200501_180733_000', '20190630_155904_000'],\n",
       " [37584.5859375, 37585.7890625, 37586.1328125])"
      ]
     },
     "execution_count": 5,
     "metadata": {},
     "output_type": "execute_result"
    }
   ],
   "source": [
    "query = np.ones((1, 768)) * 7\n",
    "results = proc.search(query, top_k=3)\n",
    "results"
   ]
  },
  {
   "cell_type": "code",
   "execution_count": 6,
   "metadata": {},
   "outputs": [
    {
     "name": "stdout",
     "output_type": "stream",
     "text": [
      "Function search elapsed time: 0:00:00.193067\n"
     ]
    },
    {
     "data": {
      "text/plain": [
       "([], [])"
      ]
     },
     "execution_count": 6,
     "metadata": {},
     "output_type": "execute_result"
    }
   ],
   "source": [
    "results = proc.search(query, top_k=10, filter=[\"20190421_105512_000\", \"20190416_090317_000\"])\n",
    "results"
   ]
  }
 ],
 "metadata": {
  "kernelspec": {
   "display_name": "service",
   "language": "python",
   "name": "python3"
  },
  "language_info": {
   "codemirror_mode": {
    "name": "ipython",
    "version": 3
   },
   "file_extension": ".py",
   "mimetype": "text/x-python",
   "name": "python",
   "nbconvert_exporter": "python",
   "pygments_lexer": "ipython3",
   "version": "3.11.3"
  },
  "orig_nbformat": 4,
  "vscode": {
   "interpreter": {
    "hash": "6f7d53329a8c7a3f02b52915f9761e1a636f352b70762b0e0e639d14f259ce92"
   }
  }
 },
 "nbformat": 4,
 "nbformat_minor": 2
}
