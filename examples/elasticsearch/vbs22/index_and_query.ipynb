{
 "cells": [
  {
   "cell_type": "code",
   "execution_count": 24,
   "metadata": {},
   "outputs": [],
   "source": [
    "import requests\n",
    "import os\n",
    "from datetime import datetime\n",
    "from dotenv import load_dotenv\n",
    "from pathlib import Path\n",
    "import numpy as np\n",
    "import pandas as pd \n",
    "\n",
    "dotenv_path = Path('.env')\n",
    "load_dotenv(dotenv_path=dotenv_path)\n",
    "\n",
    "ELASTIC_PORT = os.environ.get(\"ELASTIC_PORT\", None)\n",
    "ELASTIC_USERNAME = os.environ.get(\"ELASTIC_USERNAME\", None)\n",
    "ELASTIC_PASSWORD = os.environ.get(\"ELASTIC_PASSWORD\", None)\n",
    "\n",
    "assert ELASTIC_PORT is not None, \"ELASTIC_PORT is not set\"\n",
    "assert ELASTIC_USERNAME is not None, \"ELASTIC_USERNAME is not set\"\n",
    "assert ELASTIC_PASSWORD is not None, \"ELASTIC_PASSWORD is not set\"\n",
    "\n",
    "config = {\n",
    "    # Global config\n",
    "    \"HOST\": \"0.0.0.0\",\n",
    "    \"PORT\": ELASTIC_PORT,\n",
    "    \"USERNAME\": ELASTIC_USERNAME,\n",
    "    \"PASSWORD\": ELASTIC_PASSWORD,\n",
    "    \"INDEX\": None,\n",
    "    \"RETURN_SIZE\": 10,\n",
    "    \"CACHE_DIR\": \".cache/\",\n",
    "    \"DIMENSION\": 2,\n",
    "}"
   ]
  },
  {
   "cell_type": "markdown",
   "metadata": {},
   "source": [
    "## Prepapre DB"
   ]
  },
  {
   "cell_type": "code",
   "execution_count": 25,
   "metadata": {},
   "outputs": [],
   "source": [
    "import pandas as pd \n",
    "from tqdm import tqdm \n",
    "df = pd.read_csv('vbs22_meta.csv')"
   ]
  },
  {
   "cell_type": "code",
   "execution_count": 26,
   "metadata": {},
   "outputs": [],
   "source": [
    "# fill nan description with empty string\n",
    "df['description'] = df['description'].fillna('')"
   ]
  },
  {
   "cell_type": "code",
   "execution_count": 27,
   "metadata": {},
   "outputs": [
    {
     "data": {
      "text/html": [
       "<div>\n",
       "<style scoped>\n",
       "    .dataframe tbody tr th:only-of-type {\n",
       "        vertical-align: middle;\n",
       "    }\n",
       "\n",
       "    .dataframe tbody tr th {\n",
       "        vertical-align: top;\n",
       "    }\n",
       "\n",
       "    .dataframe thead th {\n",
       "        text-align: right;\n",
       "    }\n",
       "</style>\n",
       "<table border=\"1\" class=\"dataframe\">\n",
       "  <thead>\n",
       "    <tr style=\"text-align: right;\">\n",
       "      <th></th>\n",
       "      <th>id</th>\n",
       "      <th>vimeo_id</th>\n",
       "      <th>url</th>\n",
       "      <th>title</th>\n",
       "      <th>description</th>\n",
       "      <th>channel</th>\n",
       "      <th>tags</th>\n",
       "      <th>categories</th>\n",
       "      <th>upload_date</th>\n",
       "      <th>date</th>\n",
       "      <th>month</th>\n",
       "      <th>year</th>\n",
       "      <th>day_of_week</th>\n",
       "      <th>part_of_day</th>\n",
       "      <th>local_time</th>\n",
       "      <th>width</th>\n",
       "      <th>height</th>\n",
       "      <th>index</th>\n",
       "    </tr>\n",
       "  </thead>\n",
       "  <tbody>\n",
       "    <tr>\n",
       "      <th>0</th>\n",
       "      <td>14693</td>\n",
       "      <td>129402440</td>\n",
       "      <td>https://vimeo.com/129402440</td>\n",
       "      <td>Airplay in Palau</td>\n",
       "      <td></td>\n",
       "      <td>user23567282</td>\n",
       "      <td>['Airplay', 'scuba diving', 'palau', 'underwat...</td>\n",
       "      <td>['/categories/travel', '/categories/sports']</td>\n",
       "      <td>2015-06-01 01:13:22</td>\n",
       "      <td>20150601</td>\n",
       "      <td>June</td>\n",
       "      <td>2015</td>\n",
       "      <td>Monday</td>\n",
       "      <td>night</td>\n",
       "      <td>01:13</td>\n",
       "      <td>1280</td>\n",
       "      <td>720</td>\n",
       "      <td>14693</td>\n",
       "    </tr>\n",
       "    <tr>\n",
       "      <th>1</th>\n",
       "      <td>12130</td>\n",
       "      <td>231182522</td>\n",
       "      <td>https://vimeo.com/231182522</td>\n",
       "      <td>Slacklining in Varistonpuisto, Vantaa, Finland...</td>\n",
       "      <td>Beginner level slacklining in public park. Loc...</td>\n",
       "      <td>user24728254</td>\n",
       "      <td>['vantaa', 'slacklining', 'slackline', 'finland']</td>\n",
       "      <td>['/categories/sports/outdoorsports/videos', '/...</td>\n",
       "      <td>2017-08-26 05:43:35</td>\n",
       "      <td>20170826</td>\n",
       "      <td>August</td>\n",
       "      <td>2017</td>\n",
       "      <td>Saturday</td>\n",
       "      <td>early morning</td>\n",
       "      <td>05:43</td>\n",
       "      <td>1920</td>\n",
       "      <td>1080</td>\n",
       "      <td>12130</td>\n",
       "    </tr>\n",
       "    <tr>\n",
       "      <th>2</th>\n",
       "      <td>14114</td>\n",
       "      <td>123250553</td>\n",
       "      <td>https://vimeo.com/123250553</td>\n",
       "      <td>Rick Braun</td>\n",
       "      <td></td>\n",
       "      <td>caseyacaster</td>\n",
       "      <td>['Rick Braun', 'music', 'music doc', 'jazz', '...</td>\n",
       "      <td>['/categories/music', '/categories/documentary']</td>\n",
       "      <td>2015-03-25 17:55:06</td>\n",
       "      <td>20150325</td>\n",
       "      <td>March</td>\n",
       "      <td>2015</td>\n",
       "      <td>Wednesday</td>\n",
       "      <td>early evening</td>\n",
       "      <td>17:55</td>\n",
       "      <td>1920</td>\n",
       "      <td>1080</td>\n",
       "      <td>14114</td>\n",
       "    </tr>\n",
       "    <tr>\n",
       "      <th>3</th>\n",
       "      <td>7848</td>\n",
       "      <td>103994354</td>\n",
       "      <td>https://vimeo.com/103994354</td>\n",
       "      <td>Hotel Villa Pigna - Ascoli Piceno, Marche. Italy</td>\n",
       "      <td>So easy, so friendly.\\nMaggiori informazioni s...</td>\n",
       "      <td>hotelvillapigna</td>\n",
       "      <td>['Marche', 'Ascoli Piceno', 'Hotel', 'Villa Pi...</td>\n",
       "      <td>['/categories/travel', '/categories/personal',...</td>\n",
       "      <td>2014-08-21 06:30:02</td>\n",
       "      <td>20140821</td>\n",
       "      <td>August</td>\n",
       "      <td>2014</td>\n",
       "      <td>Thursday</td>\n",
       "      <td>early morning</td>\n",
       "      <td>06:30</td>\n",
       "      <td>1280</td>\n",
       "      <td>720</td>\n",
       "      <td>7848</td>\n",
       "    </tr>\n",
       "    <tr>\n",
       "      <th>4</th>\n",
       "      <td>9693</td>\n",
       "      <td>29606634</td>\n",
       "      <td>https://vimeo.com/29606634</td>\n",
       "      <td>Dream - 25 Years Celebration of Baizid Steel</td>\n",
       "      <td>This video was shot in Chittagong, Bangladesh,...</td>\n",
       "      <td>augustrock</td>\n",
       "      <td>['factory', 'mills', 'Trance', '5D Mark II', '...</td>\n",
       "      <td>['/categories/hd/canon/videos', '/categories/n...</td>\n",
       "      <td>2011-09-26 10:05:26</td>\n",
       "      <td>20110926</td>\n",
       "      <td>September</td>\n",
       "      <td>2011</td>\n",
       "      <td>Monday</td>\n",
       "      <td>morning</td>\n",
       "      <td>10:05</td>\n",
       "      <td>1280</td>\n",
       "      <td>720</td>\n",
       "      <td>9693</td>\n",
       "    </tr>\n",
       "  </tbody>\n",
       "</table>\n",
       "</div>"
      ],
      "text/plain": [
       "      id   vimeo_id                          url  \\\n",
       "0  14693  129402440  https://vimeo.com/129402440   \n",
       "1  12130  231182522  https://vimeo.com/231182522   \n",
       "2  14114  123250553  https://vimeo.com/123250553   \n",
       "3   7848  103994354  https://vimeo.com/103994354   \n",
       "4   9693   29606634   https://vimeo.com/29606634   \n",
       "\n",
       "                                               title  \\\n",
       "0                                   Airplay in Palau   \n",
       "1  Slacklining in Varistonpuisto, Vantaa, Finland...   \n",
       "2                                         Rick Braun   \n",
       "3   Hotel Villa Pigna - Ascoli Piceno, Marche. Italy   \n",
       "4       Dream - 25 Years Celebration of Baizid Steel   \n",
       "\n",
       "                                         description          channel  \\\n",
       "0                                                        user23567282   \n",
       "1  Beginner level slacklining in public park. Loc...     user24728254   \n",
       "2                                                        caseyacaster   \n",
       "3  So easy, so friendly.\\nMaggiori informazioni s...  hotelvillapigna   \n",
       "4  This video was shot in Chittagong, Bangladesh,...       augustrock   \n",
       "\n",
       "                                                tags  \\\n",
       "0  ['Airplay', 'scuba diving', 'palau', 'underwat...   \n",
       "1  ['vantaa', 'slacklining', 'slackline', 'finland']   \n",
       "2  ['Rick Braun', 'music', 'music doc', 'jazz', '...   \n",
       "3  ['Marche', 'Ascoli Piceno', 'Hotel', 'Villa Pi...   \n",
       "4  ['factory', 'mills', 'Trance', '5D Mark II', '...   \n",
       "\n",
       "                                          categories          upload_date  \\\n",
       "0       ['/categories/travel', '/categories/sports']  2015-06-01 01:13:22   \n",
       "1  ['/categories/sports/outdoorsports/videos', '/...  2017-08-26 05:43:35   \n",
       "2   ['/categories/music', '/categories/documentary']  2015-03-25 17:55:06   \n",
       "3  ['/categories/travel', '/categories/personal',...  2014-08-21 06:30:02   \n",
       "4  ['/categories/hd/canon/videos', '/categories/n...  2011-09-26 10:05:26   \n",
       "\n",
       "       date      month  year day_of_week    part_of_day local_time  width  \\\n",
       "0  20150601       June  2015      Monday          night      01:13   1280   \n",
       "1  20170826     August  2017    Saturday  early morning      05:43   1920   \n",
       "2  20150325      March  2015   Wednesday  early evening      17:55   1920   \n",
       "3  20140821     August  2014    Thursday  early morning      06:30   1280   \n",
       "4  20110926  September  2011      Monday        morning      10:05   1280   \n",
       "\n",
       "   height  index  \n",
       "0     720  14693  \n",
       "1    1080  12130  \n",
       "2    1080  14114  \n",
       "3     720   7848  \n",
       "4     720   9693  "
      ]
     },
     "execution_count": 27,
     "metadata": {},
     "output_type": "execute_result"
    }
   ],
   "source": [
    "df.head()"
   ]
  },
  {
   "cell_type": "markdown",
   "metadata": {},
   "source": [
    "## Create index in Elasticsearch"
   ]
  },
  {
   "cell_type": "code",
   "execution_count": 28,
   "metadata": {},
   "outputs": [],
   "source": [
    "from pysearch.elastic import ElasticProcessor\n",
    "from pysearch.utils.time import nlp2datetime"
   ]
  },
  {
   "cell_type": "code",
   "execution_count": 29,
   "metadata": {},
   "outputs": [
    {
     "name": "stdout",
     "output_type": "stream",
     "text": [
      "Connected to Elasticsearch node\n"
     ]
    }
   ],
   "source": [
    "config['INDEX'] = 'vbs22_db'\n",
    "proc = ElasticProcessor(config)"
   ]
  },
  {
   "cell_type": "code",
   "execution_count": 30,
   "metadata": {},
   "outputs": [
    {
     "data": {
      "text/plain": [
       "dict_keys(['vbs22_db', 'test_index'])"
      ]
     },
     "execution_count": 30,
     "metadata": {},
     "output_type": "execute_result"
    }
   ],
   "source": [
    "proc.available_indices()"
   ]
  },
  {
   "cell_type": "code",
   "execution_count": 31,
   "metadata": {},
   "outputs": [],
   "source": [
    "# proc.kill('vbs22_db')"
   ]
  },
  {
   "cell_type": "code",
   "execution_count": 32,
   "metadata": {},
   "outputs": [],
   "source": [
    "df_structure = {  \n",
    "    \"mappings\": {\n",
    "        \"properties\": {\n",
    "            'index': {\"type\": \"integer\"}, # required for pysearch\n",
    "            \"date\": {\"type\": \"date\", \"format\": \"basic_date\"}, # required for pysearch            \n",
    "            'id': {\"type\": \"integer\"},\n",
    "            'vimeo_id': {\"type\": \"text\"},\n",
    "            'url': {\"type\": \"text\"},\n",
    "            'title': {\"type\": \"text\"},\n",
    "            'description': {\"type\": \"text\"},\n",
    "            'channel': {\"type\": \"text\"},\n",
    "            'tags': {\"type\": \"text\"},\n",
    "            'categories': {\"type\": \"text\"},\n",
    "            'upload_date': {\"type\": \"text\"},\n",
    "            'year': {\"type\": \"integer\"},\n",
    "            'month': {\"type\": \"text\"},\n",
    "            'day_of_week': {\"type\": \"text\"},\n",
    "            'part_of_day': {\"type\": \"text\"},\n",
    "            'local_time': {\"type\": \"text\"},\n",
    "            'width': {\"type\": \"integer\"},\n",
    "            'height': {\"type\": \"integer\"}\n",
    "        }\n",
    "    }\n",
    "}"
   ]
  },
  {
   "cell_type": "code",
   "execution_count": 33,
   "metadata": {},
   "outputs": [
    {
     "name": "stderr",
     "output_type": "stream",
     "text": [
      "100%|██████████| 17235/17235 [00:02<00:00, 7171.88it/s]\n"
     ]
    }
   ],
   "source": [
    "df['index'] = df['id'] \n",
    "df.head()\n",
    "proc.index_dataframe(df, df_structure)"
   ]
  },
  {
   "cell_type": "code",
   "execution_count": 34,
   "metadata": {},
   "outputs": [
    {
     "name": "stdout",
     "output_type": "stream",
     "text": [
      "{'properties': {'categories': {'type': 'text'},\n",
      "                'channel': {'type': 'text'},\n",
      "                'date': {'format': 'basic_date', 'type': 'date'},\n",
      "                'day_of_week': {'type': 'text'},\n",
      "                'description': {'type': 'text'},\n",
      "                'height': {'type': 'integer'},\n",
      "                'id': {'type': 'integer'},\n",
      "                'index': {'type': 'integer'},\n",
      "                'local_time': {'type': 'text'},\n",
      "                'month': {'type': 'text'},\n",
      "                'part_of_day': {'type': 'text'},\n",
      "                'tags': {'type': 'text'},\n",
      "                'title': {'type': 'text'},\n",
      "                'upload_date': {'type': 'text'},\n",
      "                'url': {'type': 'text'},\n",
      "                'vimeo_id': {'type': 'text'},\n",
      "                'width': {'type': 'integer'},\n",
      "                'year': {'type': 'integer'}}}\n"
     ]
    }
   ],
   "source": [
    "from pprint import pprint \n",
    "pprint(proc.info())"
   ]
  },
  {
   "cell_type": "code",
   "execution_count": 35,
   "metadata": {},
   "outputs": [
    {
     "data": {
      "text/plain": [
       "datetime.datetime(2015, 11, 1, 5, 48, 30)"
      ]
     },
     "execution_count": 35,
     "metadata": {},
     "output_type": "execute_result"
    }
   ],
   "source": [
    "date = nlp2datetime('11/1/2015')\n",
    "date"
   ]
  },
  {
   "cell_type": "code",
   "execution_count": 36,
   "metadata": {},
   "outputs": [
    {
     "name": "stdout",
     "output_type": "stream",
     "text": [
      "Function run elapsed time: 0:00:00.000006\n"
     ]
    },
    {
     "data": {
      "text/plain": [
       "[{'_index': 'vbs22_db',\n",
       "  '_id': '14693',\n",
       "  '_score': 0.0,\n",
       "  '_source': {'id': 14693,\n",
       "   'vimeo_id': 129402440,\n",
       "   'url': 'https://vimeo.com/129402440',\n",
       "   'title': 'Airplay in Palau',\n",
       "   'description': '',\n",
       "   'channel': 'user23567282',\n",
       "   'tags': \"['Airplay', 'scuba diving', 'palau', 'underwater']\",\n",
       "   'categories': \"['/categories/travel', '/categories/sports']\",\n",
       "   'upload_date': '2015-06-01 01:13:22',\n",
       "   'date': 20150601,\n",
       "   'month': 'June',\n",
       "   'year': 2015,\n",
       "   'day_of_week': 'Monday',\n",
       "   'part_of_day': 'night',\n",
       "   'local_time': '01:13',\n",
       "   'width': 1280,\n",
       "   'height': 720}},\n",
       " {'_index': 'vbs22_db',\n",
       "  '_id': '9973',\n",
       "  '_score': 0.0,\n",
       "  '_source': {'id': 9973,\n",
       "   'vimeo_id': 201407845,\n",
       "   'url': 'https://vimeo.com/201407845',\n",
       "   'title': 'Sydonia - â\\x80\\x9cKorn Tourâ\\x80\\x9d (Tour Video)',\n",
       "   'description': 'This song has been licensed to VIMEO by DJ Central TV, Blue Pie Records and Planet Blue Pictures.\\nTour video of Sydonia during their \"Korn Tour\"\\nSydonia was an alternative rock/metal band formed in 1997 in Melbourne, Victoria. The band consisted of Dana Roskvist, Adam Murray, Sean Bailey and Ant Connelly.\\nThe band has released 4 EPs (Sojourn, I\\'d Say No, Subordinate, (Man)ipulate), the full-length album Given To Destroyers through MGM and Reality Kicks through MGM as well. Several singles have had airplay on Triple J, Triple M and Channel V. Their third album is in production now, with Tom Larkin from Shihad assisting on production alongside the band. They have toured with notable bands such as Stone Sour, Slipknot, Machine Head and Lamb of God, as well as fellow Australians Dead Letter Circus and Mammal.\\nFor more on Sydonia, visit:\\nfacebook.com/sydoniaofficial/',\n",
       "   'channel': 'planetbluepictures',\n",
       "   'tags': \"['Sydonia', 'Crash', 'Ocean of Storms', 'Rock', 'Blue Pie Records', 'Death Metal', 'Metal', 'Tour Video', 'Alternative rock', 'alternative metal', 'progressive metal', 'progressive rock', 'Hard Rock', 'DJ Central TV', 'Shred', 'Alternate']\",\n",
       "   'categories': \"['/categories/music/musicdocumentary/videos', '/categories/music']\",\n",
       "   'upload_date': '2017-01-28 04:44:33',\n",
       "   'date': 20170128,\n",
       "   'month': 'January',\n",
       "   'year': 2017,\n",
       "   'day_of_week': 'Saturday',\n",
       "   'part_of_day': 'night',\n",
       "   'local_time': '04:44',\n",
       "   'width': 1280,\n",
       "   'height': 720}},\n",
       " {'_index': 'vbs22_db',\n",
       "  '_id': '10941',\n",
       "  '_score': 0.0,\n",
       "  '_source': {'id': 10941,\n",
       "   'vimeo_id': 14327542,\n",
       "   'url': 'https://vimeo.com/14327542',\n",
       "   'title': 'Balloon Jump 8-21-10',\n",
       "   'description': \"This is a video I made on a skydive from a Hot Air Balloon on an early Saturday morning out at Perris Valley in California.  The time lapse scene was shot with a Canon 30D DSLR and a 7mm/3.5 Vivitar lens that I'd got the day before (this is one of my early timelapse shots).  The video was shot in 1080i HD on a Sony CX-150 and a .5x Raynox 5050HD wide angle lens.  The freefall stills were done with a Canon 7D with a Sigma 15mm 2.8 lens and the ground to air shots were from my wife using a Canon 40D and a Canon 70-200mm 2.8L IS lens hand held.\",\n",
       "   'channel': 'airplayphoto',\n",
       "   'tags': \"['adventure', 'hot air balloon', 'skydiving', 'time lapse', 'AirPlay Media', 'Mike Lanfor']\",\n",
       "   'categories': \"['/categories/cameratechniques/timelapse/videos', '/categories/cameratechniques', '/categories/sports/sky/videos']\",\n",
       "   'upload_date': '2010-08-21 21:20:45',\n",
       "   'date': 20100821,\n",
       "   'month': 'August',\n",
       "   'year': 2010,\n",
       "   'day_of_week': 'Saturday',\n",
       "   'part_of_day': 'late afternoon',\n",
       "   'local_time': '21:20',\n",
       "   'width': 1280,\n",
       "   'height': 720}},\n",
       " {'_index': 'vbs22_db',\n",
       "  '_id': '5206',\n",
       "  '_score': 0.0,\n",
       "  '_source': {'id': 5206,\n",
       "   'vimeo_id': 67952858,\n",
       "   'url': 'https://vimeo.com/67952858',\n",
       "   'title': 'Hockey by the Pool',\n",
       "   'description': \"The NHL hockey season goes way too long, but this year we are enjoying it with the Boston Bruins in the race for Lord Stanley's Cup.  We decided to watch the game outside via an old monitor and stream the game over a slingbox, sending the audio to the pool speakers via Airplay.  I invited my neighbor over and took out the Blackmagic Cinema camera with a Canon 1.4 50mm lens.  I wanted to try filming in various low light situations, and making s'mores by the pool seemed like a good choice. \\nA few wide shots from a gopro3.\\nI still miss the Hartford Whalers, but this was fun.\",\n",
       "   'channel': 'seancusick',\n",
       "   'tags': \"['Sean Cusick', 'BMCC', 'filmic', 'Memories in High Def', 'Blackmagic Cinema Camera']\",\n",
       "   'categories': \"['/categories/narrative', '/categories/art']\",\n",
       "   'upload_date': '2013-06-08 13:27:21',\n",
       "   'date': 20130608,\n",
       "   'month': 'June',\n",
       "   'year': 2013,\n",
       "   'day_of_week': 'Saturday',\n",
       "   'part_of_day': 'early afternoon',\n",
       "   'local_time': '13:27',\n",
       "   'width': 1280,\n",
       "   'height': 720}},\n",
       " {'_index': 'vbs22_db',\n",
       "  '_id': '1761',\n",
       "  '_score': 0.0,\n",
       "  '_source': {'id': 1761,\n",
       "   'vimeo_id': 16341483,\n",
       "   'url': 'https://vimeo.com/16341483',\n",
       "   'title': 'Masters Apprentices - Turn Up Your Radio (Rock Of Ages 3) @ Palm, Crown Casino, Melbourne (29th Oct 2010)',\n",
       "   'description': 'The Masters Apprentices (or The Masters to fans) were an Australian rock band fronted by mainstay Jim Keays on lead vocals, which formed in 1965 in Adelaide, South Australia, relocated to Melbourne in February 1967 and attempted to break into the United Kingdom market from 1970, before disbanding in 1972. Their popular Australian singles are \"Undecided\", \"Living in a Child\\'s Dream\", \"5:10 Man\", \"Think About Tomorrow Today\", \"Turn Up Your Radio\" and \"Because I Love You\". The band launched the career of bass guitarist, Glenn Wheatley, later a music industry entrepreneur and an artist manager for both Little River Band and John Farnham.\\n\"Turn Up Your Radio\" is one of their best tracks, a raucous, anthemic celebration of rock\\'n\\'roll that would see off the 1960s in fine style. \"Turn Up Your Radio\" was recorded it was recorded in a boozy late-night session at Armstrong\\'s Studio. Jim Keays barely remembers the session and was so drunk by the time had had to do the vocal that he had to be held up to the mike! The song was deliberately designed to be as loud and offensive as they could make it, thus providing the final nail in the coffin to their ill-conceived teenybopper image. \\nThe title also makes a link to Doug Ford\\'s years in The Missing Links - specifically the spoken line in the Links\\' \"Driving You Insane\", when singer Andy James shouts \"Your radio\\'s too low - turn it up!\" just before Doug rips into his incendiary solo. \"Turn Up Your Radio\" has become one of the icons of Australian rock. In spite of being released just before the start of the infamous Radio Ban in early 1970 and receiving little airplay on commercial radio, the song burned up the charts and peaked at #7 nationally. A TRUE BONA FIDE OZ ROCK CLASSIC!\\nFeaturing a top crackin\\' young band backing up Jim Keays with Davey Lane of You Am I fame and Peter Robinson of Electric Mary rockin\\' out on guitars. ã\\x8b¡',\n",
       "   'channel': 'carbiewarbie',\n",
       "   'tags': '[]',\n",
       "   'categories': \"['/categories/hd/canon/videos', '/categories/music', '/categories/narrative']\",\n",
       "   'upload_date': '2010-10-30 10:05:05',\n",
       "   'date': 20101030,\n",
       "   'month': 'October',\n",
       "   'year': 2010,\n",
       "   'day_of_week': 'Saturday',\n",
       "   'part_of_day': 'morning',\n",
       "   'local_time': '10:05',\n",
       "   'width': 1280,\n",
       "   'height': 728}}]"
      ]
     },
     "execution_count": 36,
     "metadata": {},
     "output_type": "execute_result"
    }
   ],
   "source": [
    "proc.search_text_closestday_pipeline('Airplay', [], timefield='date', timestamp=date, filter=None)"
   ]
  }
 ],
 "metadata": {
  "kernelspec": {
   "display_name": "elastic",
   "language": "python",
   "name": "python3"
  },
  "language_info": {
   "codemirror_mode": {
    "name": "ipython",
    "version": 3
   },
   "file_extension": ".py",
   "mimetype": "text/x-python",
   "name": "python",
   "nbconvert_exporter": "python",
   "pygments_lexer": "ipython3",
   "version": "3.11.0"
  },
  "orig_nbformat": 4,
  "vscode": {
   "interpreter": {
    "hash": "3e242d2624af79f4ab82e775fce7e2f7901da21f9b094faabf8c3149972e54fd"
   }
  }
 },
 "nbformat": 4,
 "nbformat_minor": 2
}
