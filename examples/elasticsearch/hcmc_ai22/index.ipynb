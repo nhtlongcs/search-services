{
 "cells": [
  {
   "attachments": {},
   "cell_type": "markdown",
   "metadata": {},
   "source": [
    "Firsly, you need to install the elasticsearch python client. Check our [installation guide]() for more details.\n",
    "Our notebook will use the same configuration as the docker-compose file. You can change the configuration in \n",
    "the notebook if you want to use your own Elasticsearch instance."
   ]
  },
  {
   "cell_type": "code",
   "execution_count": 5,
   "metadata": {},
   "outputs": [
    {
     "name": "stdout",
     "output_type": "stream",
     "text": [
      "ES_PORT: 20542\n"
     ]
    }
   ],
   "source": [
    "import os \n",
    "from dotenv import load_dotenv\n",
    "from pathlib import Path\n",
    "\n",
    "dotenv_path = Path('.env')\n",
    "load_dotenv(dotenv_path=dotenv_path)\n",
    "\n",
    "ES_PORT = os.environ.get(\"ELASTIC_PORT\", None)\n",
    "print(f\"ES_PORT: {ES_PORT}\")"
   ]
  },
  {
   "cell_type": "markdown",
   "metadata": {},
   "source": [
    "## Prepapre DB"
   ]
  },
  {
   "cell_type": "code",
   "execution_count": 6,
   "metadata": {},
   "outputs": [],
   "source": [
    "import pandas as pd \n",
    "df = pd.read_csv('demo_db.csv')"
   ]
  },
  {
   "cell_type": "code",
   "execution_count": 7,
   "metadata": {},
   "outputs": [
    {
     "data": {
      "text/html": [
       "<div>\n",
       "<style scoped>\n",
       "    .dataframe tbody tr th:only-of-type {\n",
       "        vertical-align: middle;\n",
       "    }\n",
       "\n",
       "    .dataframe tbody tr th {\n",
       "        vertical-align: top;\n",
       "    }\n",
       "\n",
       "    .dataframe thead th {\n",
       "        text-align: right;\n",
       "    }\n",
       "</style>\n",
       "<table border=\"1\" class=\"dataframe\">\n",
       "  <thead>\n",
       "    <tr style=\"text-align: right;\">\n",
       "      <th></th>\n",
       "      <th>video_id</th>\n",
       "      <th>frame_id</th>\n",
       "      <th>words</th>\n",
       "    </tr>\n",
       "  </thead>\n",
       "  <tbody>\n",
       "    <tr>\n",
       "      <th>0</th>\n",
       "      <td>C00_V0000</td>\n",
       "      <td>0</td>\n",
       "      <td>[06:, 29, HTV, :38, HP]</td>\n",
       "    </tr>\n",
       "    <tr>\n",
       "      <th>1</th>\n",
       "      <td>C00_V0000</td>\n",
       "      <td>96</td>\n",
       "      <td>[H, TV, 29:42, 06:, HD]</td>\n",
       "    </tr>\n",
       "    <tr>\n",
       "      <th>2</th>\n",
       "      <td>C00_V0000</td>\n",
       "      <td>206</td>\n",
       "      <td>[06:29:46, HD, HTV9]</td>\n",
       "    </tr>\n",
       "    <tr>\n",
       "      <th>3</th>\n",
       "      <td>C00_V0000</td>\n",
       "      <td>378</td>\n",
       "      <td>[9, GIÁY, 06, :29, HTV, :53, HD, NY, GIÂY, MAI...</td>\n",
       "    </tr>\n",
       "    <tr>\n",
       "      <th>4</th>\n",
       "      <td>C00_V0000</td>\n",
       "      <td>545</td>\n",
       "      <td>[30, :00, 06, HTV, MP]</td>\n",
       "    </tr>\n",
       "  </tbody>\n",
       "</table>\n",
       "</div>"
      ],
      "text/plain": [
       "    video_id  frame_id                                              words\n",
       "0  C00_V0000         0                            [06:, 29, HTV, :38, HP]\n",
       "1  C00_V0000        96                            [H, TV, 29:42, 06:, HD]\n",
       "2  C00_V0000       206                               [06:29:46, HD, HTV9]\n",
       "3  C00_V0000       378  [9, GIÁY, 06, :29, HTV, :53, HD, NY, GIÂY, MAI...\n",
       "4  C00_V0000       545                             [30, :00, 06, HTV, MP]"
      ]
     },
     "execution_count": 7,
     "metadata": {},
     "output_type": "execute_result"
    }
   ],
   "source": [
    "# convert df words from string of list to list \n",
    "df['words'] = df['words'].apply(lambda x: eval(x))\n",
    "df.head()"
   ]
  },
  {
   "cell_type": "code",
   "execution_count": 9,
   "metadata": {},
   "outputs": [
    {
     "data": {
      "text/html": [
       "<div>\n",
       "<style scoped>\n",
       "    .dataframe tbody tr th:only-of-type {\n",
       "        vertical-align: middle;\n",
       "    }\n",
       "\n",
       "    .dataframe tbody tr th {\n",
       "        vertical-align: top;\n",
       "    }\n",
       "\n",
       "    .dataframe thead th {\n",
       "        text-align: right;\n",
       "    }\n",
       "</style>\n",
       "<table border=\"1\" class=\"dataframe\">\n",
       "  <thead>\n",
       "    <tr style=\"text-align: right;\">\n",
       "      <th></th>\n",
       "      <th>video_id</th>\n",
       "      <th>frame_id</th>\n",
       "      <th>words</th>\n",
       "      <th>index</th>\n",
       "    </tr>\n",
       "  </thead>\n",
       "  <tbody>\n",
       "    <tr>\n",
       "      <th>0</th>\n",
       "      <td>C00_V0000</td>\n",
       "      <td>0</td>\n",
       "      <td>[06:, 29, HTV, :38, HP]</td>\n",
       "      <td>C00_V0000/0</td>\n",
       "    </tr>\n",
       "    <tr>\n",
       "      <th>1</th>\n",
       "      <td>C00_V0000</td>\n",
       "      <td>96</td>\n",
       "      <td>[H, TV, 29:42, 06:, HD]</td>\n",
       "      <td>C00_V0000/96</td>\n",
       "    </tr>\n",
       "    <tr>\n",
       "      <th>2</th>\n",
       "      <td>C00_V0000</td>\n",
       "      <td>206</td>\n",
       "      <td>[06:29:46, HD, HTV9]</td>\n",
       "      <td>C00_V0000/206</td>\n",
       "    </tr>\n",
       "    <tr>\n",
       "      <th>3</th>\n",
       "      <td>C00_V0000</td>\n",
       "      <td>378</td>\n",
       "      <td>[9, GIÁY, 06, :29, HTV, :53, HD, NY, GIÂY, MAI...</td>\n",
       "      <td>C00_V0000/378</td>\n",
       "    </tr>\n",
       "    <tr>\n",
       "      <th>4</th>\n",
       "      <td>C00_V0000</td>\n",
       "      <td>545</td>\n",
       "      <td>[30, :00, 06, HTV, MP]</td>\n",
       "      <td>C00_V0000/545</td>\n",
       "    </tr>\n",
       "  </tbody>\n",
       "</table>\n",
       "</div>"
      ],
      "text/plain": [
       "    video_id  frame_id                                              words  \\\n",
       "0  C00_V0000         0                            [06:, 29, HTV, :38, HP]   \n",
       "1  C00_V0000        96                            [H, TV, 29:42, 06:, HD]   \n",
       "2  C00_V0000       206                               [06:29:46, HD, HTV9]   \n",
       "3  C00_V0000       378  [9, GIÁY, 06, :29, HTV, :53, HD, NY, GIÂY, MAI...   \n",
       "4  C00_V0000       545                             [30, :00, 06, HTV, MP]   \n",
       "\n",
       "           index  \n",
       "0    C00_V0000/0  \n",
       "1   C00_V0000/96  \n",
       "2  C00_V0000/206  \n",
       "3  C00_V0000/378  \n",
       "4  C00_V0000/545  "
      ]
     },
     "execution_count": 9,
     "metadata": {},
     "output_type": "execute_result"
    }
   ],
   "source": [
    "df['index'] = df.apply(lambda x: \"{}/{}\".format(x['video_id'], x['frame_id']), axis=1)\n",
    "df.head()"
   ]
  },
  {
   "cell_type": "markdown",
   "metadata": {},
   "source": [
    "## Create index in Elasticsearch"
   ]
  },
  {
   "cell_type": "code",
   "execution_count": 34,
   "metadata": {},
   "outputs": [],
   "source": [
    "from elasticsearch.helpers import bulk\n",
    "from elasticsearch import Elasticsearch, RequestsHttpConnection\n",
    "\n",
    "es = Elasticsearch(['http://0.0.0.0:9200'], timeout=100, connection_class=RequestsHttpConnection, http_auth=('elastic', '123456'), use_ssl=False, verify_certs=False)"
   ]
  },
  {
   "cell_type": "code",
   "execution_count": 36,
   "metadata": {},
   "outputs": [
    {
     "name": "stderr",
     "output_type": "stream",
     "text": [
      "/tmp/ipykernel_180386/3661718185.py:2: DeprecationWarning: Using positional arguments for APIs is deprecated and will be disabled in 8.0.0. Instead use only keyword arguments for all APIs. See https://github.com/elastic/elasticsearch-py/issues/1698 for more information\n",
      "  es.indices.get_alias(\"*\")\n"
     ]
    },
    {
     "data": {
      "text/plain": [
       "{'scenetext_db': {'aliases': {}}}"
      ]
     },
     "execution_count": 36,
     "metadata": {},
     "output_type": "execute_result"
    }
   ],
   "source": [
    "es.indices.create(index='scenetext_db', ignore=400)\n",
    "es.indices.get_alias(\"*\")"
   ]
  },
  {
   "cell_type": "code",
   "execution_count": 38,
   "metadata": {},
   "outputs": [
    {
     "data": {
      "text/plain": [
       "(224340, [])"
      ]
     },
     "execution_count": 38,
     "metadata": {},
     "output_type": "execute_result"
    }
   ],
   "source": [
    "def gen_data():\n",
    "    for i, (vid, fid, words) in enumerate(db_ls):\n",
    "        yield {\n",
    "            \"_index\": 'scenetext_db',\n",
    "            \"_id\": f'{vid}/{fid}',\n",
    "            \"_source\": {\n",
    "                'vid': vid,\n",
    "                'fid': fid,\n",
    "                'words': words\n",
    "            }\n",
    "        }\n",
    "bulk(es, gen_data())"
   ]
  },
  {
   "cell_type": "code",
   "execution_count": 39,
   "metadata": {},
   "outputs": [],
   "source": [
    "# Delete index\n",
    "# es.indices.delete(index='scenetext_db')"
   ]
  },
  {
   "cell_type": "code",
   "execution_count": null,
   "metadata": {},
   "outputs": [],
   "source": []
  }
 ],
 "metadata": {
  "kernelspec": {
   "display_name": "elastic",
   "language": "python",
   "name": "python3"
  },
  "language_info": {
   "codemirror_mode": {
    "name": "ipython",
    "version": 3
   },
   "file_extension": ".py",
   "mimetype": "text/x-python",
   "name": "python",
   "nbconvert_exporter": "python",
   "pygments_lexer": "ipython3",
   "version": "3.8.13"
  },
  "orig_nbformat": 4,
  "vscode": {
   "interpreter": {
    "hash": "3e242d2624af79f4ab82e775fce7e2f7901da21f9b094faabf8c3149972e54fd"
   }
  }
 },
 "nbformat": 4,
 "nbformat_minor": 2
}
